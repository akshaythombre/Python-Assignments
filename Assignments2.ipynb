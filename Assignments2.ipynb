{
 "cells": [
  {
   "cell_type": "code",
   "execution_count": null,
   "id": "307b97e4-b63c-4c69-8ee7-b85817177941",
   "metadata": {},
   "outputs": [],
   "source": [
    "Question 1:\n",
    "Create a variable age and assign it the value 25 . Then print the value of\n",
    "age along with its data type using the type() function."
   ]
  },
  {
   "cell_type": "code",
   "execution_count": 1,
   "id": "087133dd-d0dd-4611-9dd9-bb4d4322d62d",
   "metadata": {},
   "outputs": [
    {
     "name": "stdout",
     "output_type": "stream",
     "text": [
      "Age: 25\n",
      "Type of Age: <class 'int'>\n"
     ]
    }
   ],
   "source": [
    "age = 25\n",
    "print(\"Age:\", age)\n",
    "print(\"Type of Age:\",type(age))"
   ]
  },
  {
   "cell_type": "code",
   "execution_count": null,
   "id": "7ec49ccb-1bab-4e93-9f05-fdf92f9c6a89",
   "metadata": {},
   "outputs": [],
   "source": [
    "Question 2:\n",
    "Assign the number 12.5 to a variable price . Print both the variable and its\n",
    "data type. Then assign the value 12 to the same variable and print its data\n",
    "type again. What do you observe?"
   ]
  },
  {
   "cell_type": "code",
   "execution_count": 6,
   "id": "ef9e1467-25e9-4ac7-9ff3-a8d31b2cecce",
   "metadata": {},
   "outputs": [
    {
     "name": "stdout",
     "output_type": "stream",
     "text": [
      "Price: 12.5\n",
      "Type of price: <class 'float'>\n",
      "New price: 12\n",
      "Type of price now: <class 'int'>\n"
     ]
    }
   ],
   "source": [
    "price = 12.5\n",
    "print(\"Price:\", price)\n",
    "print(\"Type of price:\", type(price))\n",
    "\n",
    "price = 12\n",
    "print(\"New price:\", price)\n",
    "print(\"Type of price now:\", type(price))\n"
   ]
  },
  {
   "cell_type": "code",
   "execution_count": null,
   "id": "1144c87f-7c44-4bf3-8c7a-5ba1581f7346",
   "metadata": {},
   "outputs": [],
   "source": [
    "Question 3:\n",
    "Create a variable is_raining and set it to True . Print the value of the variable\n",
    "along with its type. Then set is_raining to False and print the new value and\n",
    "type."
   ]
  },
  {
   "cell_type": "code",
   "execution_count": 8,
   "id": "1833c65c-0ed7-4a9d-bcbb-e6a5d7a17a20",
   "metadata": {},
   "outputs": [
    {
     "name": "stdout",
     "output_type": "stream",
     "text": [
      "Is it raining? True\n",
      "Type of is_raining: <class 'bool'>\n",
      "Is it raining now? False\n",
      "New type of is_raining: <class 'bool'>\n"
     ]
    }
   ],
   "source": [
    "is_raining = True\n",
    "print(\"Is it raining?\", is_raining)\n",
    "print(\"Type of is_raining:\", type(is_raining))\n",
    "is_raining = False\n",
    "print(\"Is it raining now?\", is_raining)\n",
    "print(\"New type of is_raining:\",type(is_raining))"
   ]
  },
  {
   "cell_type": "code",
   "execution_count": null,
   "id": "8bf7a402-6316-4160-a486-fef260df4f75",
   "metadata": {},
   "outputs": [],
   "source": [
    "Question 4:\n",
    "Create a variable my_name and store your full name in it as a string. Then\n",
    "print the value of my_name using single quotes ' ."
   ]
  },
  {
   "cell_type": "code",
   "execution_count": 9,
   "id": "02bd7432-520b-4caa-b81e-0a248861c00f",
   "metadata": {},
   "outputs": [
    {
     "name": "stdout",
     "output_type": "stream",
     "text": [
      "My name is: akshay thombre\n"
     ]
    }
   ],
   "source": [
    "my_name = 'akshay thombre'\n",
    "print(\"My name is:\",my_name)"
   ]
  },
  {
   "cell_type": "code",
   "execution_count": null,
   "id": "b4f5eae0-b8c6-4055-bcf5-31c5bdda3d8e",
   "metadata": {},
   "outputs": [],
   "source": [
    "Question 5:\n",
    "Write a Python program that asks the user for their name and age using the\n",
    "input() function. Store the inputs in variables and print a sentence like\n",
    "\"Hello, [Name]! You are [Age] years old.\" Ensure you cast the age to an\n",
    "integer."
   ]
  },
  {
   "cell_type": "code",
   "execution_count": 10,
   "id": "e48534ef-9d55-4d10-8cf5-86f9306d17b3",
   "metadata": {},
   "outputs": [
    {
     "name": "stdin",
     "output_type": "stream",
     "text": [
      "Enter your name:  Pratik\n",
      "Enter your age:  24\n"
     ]
    },
    {
     "name": "stdout",
     "output_type": "stream",
     "text": [
      "Hello, Pratik! You are 24 years old.\n"
     ]
    }
   ],
   "source": [
    "name = input(\"Enter your name: \")\n",
    "age = int(input(\"Enter your age: \"))\n",
    "print(f\"Hello, {name}! You are {age} years old.\")\n"
   ]
  },
  {
   "cell_type": "code",
   "execution_count": null,
   "id": "0c2b9ffb-1a11-44a4-a352-5109d3ae6ef2",
   "metadata": {},
   "outputs": [],
   "source": [
    "Question 6:\n",
    "Create two variables x and y and assign them the values 10 and 3.5 ,\n",
    "respectively. Print their values and types. Then, create a new variable\n",
    "sum_xy and store the sum of x and y . Print the result and its type."
   ]
  },
  {
   "cell_type": "code",
   "execution_count": 11,
   "id": "3a66dbd3-ad0e-4739-9697-c6faaf70a8bf",
   "metadata": {},
   "outputs": [
    {
     "name": "stdout",
     "output_type": "stream",
     "text": [
      "x: 10 Type of x: <class 'int'>\n",
      "y: 3.5 Type of y: <class 'float'>\n",
      "Sum of x and y: 13.5\n",
      "Type of sum_xy: <class 'float'>\n"
     ]
    }
   ],
   "source": [
    "x = 10\n",
    "y = 3.5\n",
    "print(\"x:\", x, \"Type of x:\", type(x))\n",
    "print(\"y:\", y, \"Type of y:\", type(y))\n",
    "sum_xy = x + y\n",
    "print(\"Sum of x and y:\", sum_xy)\n",
    "print(\"Type of sum_xy:\", type(sum_xy))"
   ]
  },
  {
   "cell_type": "code",
   "execution_count": null,
   "id": "87aca9f2-aef6-4f0a-9b57-462e23f0e079",
   "metadata": {},
   "outputs": [],
   "source": [
    "Question 7:\n",
    "Using the type() function, check and print the data type of the following:\n",
    "   45.0\n",
    "  \"hello\"\n",
    "  None\n",
    "  False"
   ]
  },
  {
   "cell_type": "code",
   "execution_count": 19,
   "id": "661f9122-9aef-44f3-97b4-84762a0443f8",
   "metadata": {},
   "outputs": [
    {
     "name": "stdout",
     "output_type": "stream",
     "text": [
      "Type of 45.0: <class 'float'>\n",
      "Type of 'hello': <class 'str'>\n",
      "Type of None: <class 'NoneType'>\n",
      "Type of False: <class 'bool'>\n"
     ]
    }
   ],
   "source": [
    "print(\"Type of 45.0:\", type(45.0))\n",
    "print(\"Type of 'hello':\", type(\"hello\"))\n",
    "print(\"Type of None:\", type(None))\n",
    "print(\"Type of False:\", type(False))"
   ]
  },
  {
   "cell_type": "code",
   "execution_count": null,
   "id": "5665a987-580c-4c9a-95b4-2e6d5290de50",
   "metadata": {},
   "outputs": [],
   "source": [
    "Question 8:\n",
    "Write a Python program to print three strings \"apple\" , \"banana\" , and \"cherry\"\n",
    "on the same line, separated by a space. Then modify the program to\n",
    "separate the strings using a comma , instead of a space."
   ]
  },
  {
   "cell_type": "code",
   "execution_count": 20,
   "id": "84898a56-84b9-4b70-bbf0-3b364d21cfa5",
   "metadata": {},
   "outputs": [
    {
     "name": "stdout",
     "output_type": "stream",
     "text": [
      "apple banana cherry\n"
     ]
    }
   ],
   "source": [
    "print(\"apple\",\"banana\",\"cherry\")"
   ]
  },
  {
   "cell_type": "code",
   "execution_count": 23,
   "id": "403a175c-2292-4f47-9d55-397923bc607c",
   "metadata": {},
   "outputs": [
    {
     "name": "stdout",
     "output_type": "stream",
     "text": [
      "apple, banana, cherry\n"
     ]
    }
   ],
   "source": [
    "print(\"apple\",\"banana\",\"cherry\",sep=\", \")"
   ]
  },
  {
   "cell_type": "code",
   "execution_count": null,
   "id": "279a1cd5-b38f-45e7-9689-97c8bc838454",
   "metadata": {},
   "outputs": [],
   "source": [
    "Question 9:\n",
    "Create a variable big_number and assign it a very large integer value (e.g.,\n",
    "987654321987654321 ). Print the value and its type. What do you notice about\n",
    "the size of the number?"
   ]
  },
  {
   "cell_type": "code",
   "execution_count": 26,
   "id": "fd8509f9-354a-42fa-8973-a2d3eba3830d",
   "metadata": {},
   "outputs": [
    {
     "name": "stdout",
     "output_type": "stream",
     "text": [
      "value: 987654321987654321\n",
      "Type: <class 'int'>\n"
     ]
    }
   ],
   "source": [
    "big_number = 987654321987654321\n",
    "print(\"value:\", big_number)\n",
    "print(\"Type:\", type(big_number))"
   ]
  },
  {
   "cell_type": "code",
   "execution_count": null,
   "id": "a062d4b0-bb6f-4000-a54f-cddc5aa92900",
   "metadata": {},
   "outputs": [],
   "source": [
    "Question 10:\n",
    "Write a Python program that prints the result of multiplying two floats (e.g.,\n",
    "2.5 and 3.7 ). Then check and print the data type of the result."
   ]
  },
  {
   "cell_type": "code",
   "execution_count": 28,
   "id": "bd7ec974-b595-4773-804b-6e63c52e8d87",
   "metadata": {},
   "outputs": [
    {
     "name": "stdout",
     "output_type": "stream",
     "text": [
      "Result of multipication: 9.25\n",
      "Type of result: <class 'float'>\n"
     ]
    }
   ],
   "source": [
    "result = 2.5*3.7\n",
    "print(\"Result of multipication:\",result)\n",
    "\n",
    "print(\"Type of result:\", type(result))"
   ]
  },
  {
   "cell_type": "code",
   "execution_count": null,
   "id": "02f31600-9109-48a7-9fc4-009106c3711d",
   "metadata": {},
   "outputs": [],
   "source": []
  },
  {
   "cell_type": "code",
   "execution_count": null,
   "id": "b77a6d66-1c76-432b-a8c6-ece4d99ae41d",
   "metadata": {},
   "outputs": [],
   "source": []
  },
  {
   "cell_type": "code",
   "execution_count": null,
   "id": "aeca362b-2ec0-4351-9283-8547810d67e4",
   "metadata": {},
   "outputs": [],
   "source": []
  }
 ],
 "metadata": {
  "kernelspec": {
   "display_name": "Python 3 (ipykernel)",
   "language": "python",
   "name": "python3"
  },
  "language_info": {
   "codemirror_mode": {
    "name": "ipython",
    "version": 3
   },
   "file_extension": ".py",
   "mimetype": "text/x-python",
   "name": "python",
   "nbconvert_exporter": "python",
   "pygments_lexer": "ipython3",
   "version": "3.12.7"
  }
 },
 "nbformat": 4,
 "nbformat_minor": 5
}
