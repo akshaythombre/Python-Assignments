{
 "cells": [
  {
   "cell_type": "code",
   "execution_count": null,
   "id": "e8d26cf0-d86a-4c62-b2fc-f19d18c25342",
   "metadata": {},
   "outputs": [],
   "source": [
    "Question 1:\n",
    "Write a Python program to print your name and favourite colour on two\n",
    "separate lines."
   ]
  },
  {
   "cell_type": "code",
   "execution_count": 1,
   "id": "fe451f95-b733-4e71-82c9-d9cba15c8656",
   "metadata": {},
   "outputs": [
    {
     "name": "stdout",
     "output_type": "stream",
     "text": [
      "Akshay\n",
      "Blue\n"
     ]
    }
   ],
   "source": [
    "print(\"Akshay\")\n",
    "print(\"Blue\")"
   ]
  },
  {
   "cell_type": "code",
   "execution_count": null,
   "id": "7b0a1df4-156f-4218-b81d-916062295c12",
   "metadata": {},
   "outputs": [],
   "source": [
    "Question 2:\n",
    "Write a Python program that prints the result of adding 7 and 8."
   ]
  },
  {
   "cell_type": "code",
   "execution_count": 2,
   "id": "6c154395-dc98-457b-9d50-0126df8355ea",
   "metadata": {},
   "outputs": [
    {
     "name": "stdout",
     "output_type": "stream",
     "text": [
      "15\n"
     ]
    }
   ],
   "source": [
    "print(7+8)"
   ]
  },
  {
   "cell_type": "code",
   "execution_count": null,
   "id": "c9dd5e12-2d8a-4918-ae4f-6eb63b7305f4",
   "metadata": {},
   "outputs": [],
   "source": [
    "Question 3:\n",
    "Use the print function to display the following text exactly as it is:\n",
    "Python is fun!\n",
    "Let's learn together. "
   ]
  },
  {
   "cell_type": "code",
   "execution_count": 3,
   "id": "1234fb79-8200-4d68-b165-a3ff828b5354",
   "metadata": {},
   "outputs": [
    {
     "name": "stdout",
     "output_type": "stream",
     "text": [
      "Python is fun!\n",
      "Let's learn together.\n"
     ]
    }
   ],
   "source": [
    "print(\"Python is fun!\")\n",
    "print(\"Let's learn together.\")"
   ]
  },
  {
   "cell_type": "code",
   "execution_count": null,
   "id": "95738493-769f-426f-86f2-4de43e64278f",
   "metadata": {},
   "outputs": [],
   "source": [
    "Question 4:\n",
    "Write a Python program to calculate and print the result of multiplying 6 by\n",
    "9."
   ]
  },
  {
   "cell_type": "code",
   "execution_count": 4,
   "id": "01fed545-79d8-43e3-a65b-4549a62d73a9",
   "metadata": {},
   "outputs": [
    {
     "name": "stdout",
     "output_type": "stream",
     "text": [
      "54\n"
     ]
    }
   ],
   "source": [
    "print(6*9)"
   ]
  },
  {
   "cell_type": "code",
   "execution_count": null,
   "id": "534c4a61-ef0b-4d30-a83a-b300469d330d",
   "metadata": {},
   "outputs": [],
   "source": [
    "Question 5:\n",
    "Write a Python program that prints the result of adding 5 + 5 and\n",
    "multiplying 2 * 3 in a single line of code."
   ]
  },
  {
   "cell_type": "code",
   "execution_count": 6,
   "id": "f66bdae0-fefc-47de-9e6a-756f8486bd1d",
   "metadata": {},
   "outputs": [
    {
     "name": "stdout",
     "output_type": "stream",
     "text": [
      "10\n",
      "6\n"
     ]
    }
   ],
   "source": [
    "print(5+5)\n",
    "print(2*3)"
   ]
  },
  {
   "cell_type": "code",
   "execution_count": null,
   "id": "8a7c52a4-dc76-4832-9bf6-b92c15172702",
   "metadata": {},
   "outputs": [],
   "source": [
    "1. Take the name A as input from the user and print \"Hello A\", where A is\n",
    "the name in input."
   ]
  },
  {
   "cell_type": "code",
   "execution_count": 7,
   "id": "0ebbd9b3-a2f7-4a18-a595-bdb6701f48fe",
   "metadata": {},
   "outputs": [
    {
     "name": "stdin",
     "output_type": "stream",
     "text": [
      "Enter your name:  akshay\n"
     ]
    },
    {
     "name": "stdout",
     "output_type": "stream",
     "text": [
      "Hello akshay\n"
     ]
    }
   ],
   "source": [
    "name = input(\"Enter your name: \")\n",
    "print(f\"Hello {name}\")"
   ]
  },
  {
   "cell_type": "code",
   "execution_count": null,
   "id": "ea8a3231-9300-49f6-912e-24f58538edb3",
   "metadata": {},
   "outputs": [],
   "source": [
    "2. You have x rupees in your savings. You google pay y rupees, print your\n",
    "bank balance"
   ]
  },
  {
   "cell_type": "code",
   "execution_count": 8,
   "id": "5288e479-e756-4ffd-867b-cb0e3bf9a8cd",
   "metadata": {},
   "outputs": [
    {
     "name": "stdin",
     "output_type": "stream",
     "text": [
      "Enter your initial savings (in rupees):  1000\n",
      "Enter the amount paid via Google Pay (in rupees):  500\n"
     ]
    }
   ],
   "source": [
    "x = float(input(\"Enter your initial savings (in rupees): \"))\n",
    "y = float(input(\"Enter the amount paid via Google Pay (in rupees): \"))"
   ]
  },
  {
   "cell_type": "code",
   "execution_count": null,
   "id": "51c48e70-8505-4648-92a0-f606fbf80f8a",
   "metadata": {},
   "outputs": [],
   "source": [
    "3. Print the first five letters of the English alphabet i.e. A, B, C, D and E.\n",
    "one below each other"
   ]
  },
  {
   "cell_type": "code",
   "execution_count": 1,
   "id": "7b0c4579-0d08-4aa6-a35a-a2224e565e38",
   "metadata": {},
   "outputs": [
    {
     "name": "stdout",
     "output_type": "stream",
     "text": [
      "a\n",
      "b\n",
      "c\n",
      "d\n",
      "e\n"
     ]
    }
   ],
   "source": [
    "print(\"a\")\n",
    "print(\"b\")\n",
    "print(\"c\")\n",
    "print(\"d\")\n",
    "print(\"e\")"
   ]
  },
  {
   "cell_type": "code",
   "execution_count": null,
   "id": "3069efb8-262c-4fc4-bdc6-af6977dd6689",
   "metadata": {},
   "outputs": [],
   "source": [
    "4. Take two names A and B as input from the user, and print \"A says Hi to\n",
    "B\" (Without quotations), where A and B are the names in input."
   ]
  },
  {
   "cell_type": "code",
   "execution_count": 2,
   "id": "317f34a8-abd4-486d-ae97-18ae61646090",
   "metadata": {},
   "outputs": [
    {
     "name": "stdin",
     "output_type": "stream",
     "text": [
      "Enter the first name (A):  akshay\n",
      "Enter the second name (B):  neha\n"
     ]
    }
   ],
   "source": [
    "A = input(\"Enter the first name (A): \")\n",
    "B = input(\"Enter the second name (B): \")"
   ]
  },
  {
   "cell_type": "code",
   "execution_count": null,
   "id": "36e40cff-1644-46af-97b9-efde8ce2ceef",
   "metadata": {},
   "outputs": [],
   "source": []
  },
  {
   "cell_type": "code",
   "execution_count": null,
   "id": "eeabdccf-dcc5-416a-90b0-c2e71de86dc9",
   "metadata": {},
   "outputs": [],
   "source": []
  },
  {
   "cell_type": "code",
   "execution_count": null,
   "id": "14d95c55-1780-43d4-8de2-505e1f7cf5c9",
   "metadata": {},
   "outputs": [],
   "source": []
  },
  {
   "cell_type": "code",
   "execution_count": null,
   "id": "6947877e-9b02-4c7c-919e-a2dbd81b14a3",
   "metadata": {},
   "outputs": [],
   "source": []
  }
 ],
 "metadata": {
  "kernelspec": {
   "display_name": "Python 3 (ipykernel)",
   "language": "python",
   "name": "python3"
  },
  "language_info": {
   "codemirror_mode": {
    "name": "ipython",
    "version": 3
   },
   "file_extension": ".py",
   "mimetype": "text/x-python",
   "name": "python",
   "nbconvert_exporter": "python",
   "pygments_lexer": "ipython3",
   "version": "3.12.7"
  }
 },
 "nbformat": 4,
 "nbformat_minor": 5
}
