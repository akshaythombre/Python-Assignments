{
 "cells": [
  {
   "cell_type": "code",
   "execution_count": null,
   "id": "d647d017-9b40-4e8d-a5b5-c92a9573a98d",
   "metadata": {},
   "outputs": [],
   "source": [
    "Question 1:\n",
    "Given the temperature of a day in Degrees Celsius, convert this given\n",
    "temperature from Celsius to Fahrenheit. Complete the function to do so.\n",
    "Round the output up to 2 decimal places"
   ]
  },
  {
   "cell_type": "code",
   "execution_count": 1,
   "id": "ea91f9c0-35d9-4475-961e-a10f35d24fb9",
   "metadata": {},
   "outputs": [],
   "source": [
    "def celsius_farhen(Celsius):\n",
    "    ans = (Celsius* 9/5)+32\n",
    "    return round(ans,2)"
   ]
  },
  {
   "cell_type": "code",
   "execution_count": null,
   "id": "213d6a2a-caa6-4772-a72f-55045c7dee8b",
   "metadata": {},
   "outputs": [],
   "source": []
  },
  {
   "cell_type": "code",
   "execution_count": null,
   "id": "d99d0f68-a38c-43ac-9b0f-77da0838af19",
   "metadata": {},
   "outputs": [],
   "source": [
    "Question 2:\n",
    "Write a program to calculate the total amount if the principal\n",
    "amount, simple interest rate per annum, and time in the number of days\n",
    "are given. The simple interest rate per annum is provided as a percentage.\n",
    "Assuming that there are 365 days in a year, print the total amount rounded\n",
    "up to 2 decimal places.\n",
    "\n",
    "Note 1: Use round(ans,2) to round up ans up to two decimals"
   ]
  },
  {
   "cell_type": "code",
   "execution_count": 19,
   "id": "a04c202a-ba6d-4f83-b54f-4c3edd1259fc",
   "metadata": {},
   "outputs": [
    {
     "name": "stdout",
     "output_type": "stream",
     "text": [
      "Total Amount: 1012.33\n"
     ]
    }
   ],
   "source": [
    "def calculate_total_amount(principal, rate, days):\n",
    "    simple_interest = (principal * rate * days) / (100 * 365)\n",
    "    total_amount = principal + simple_interest\n",
    "    return round(total_amount, 2)\n",
    "    principal = 1000  # in currency units\n",
    "    rate = 5          # annual interest rate in %\n",
    "    days = 90         # duration in days\n",
    "\n",
    "print(\"Total Amount:\", calculate_total_amount(principal, rate, days))\n"
   ]
  },
  {
   "cell_type": "code",
   "execution_count": null,
   "id": "ee83e1b4-8f60-4dd9-99f0-c64691c854a4",
   "metadata": {},
   "outputs": [],
   "source": [
    "Question 3:\n",
    "Write a program that takes the cost price of a vehicle as an argument and\n",
    "returns the road tax, that the vehicle owner has to pay according to the\n",
    "following criteria:"
   ]
  },
  {
   "cell_type": "code",
   "execution_count": 24,
   "id": "76d95dbb-e6ab-4824-9de3-37971b42776f",
   "metadata": {},
   "outputs": [
    {
     "ename": "SyntaxError",
     "evalue": "invalid syntax (1717267095.py, line 4)",
     "output_type": "error",
     "traceback": [
      "\u001b[1;36m  Cell \u001b[1;32mIn[24], line 4\u001b[1;36m\u001b[0m\n\u001b[1;33m    elif (price > 75000 and price <= 100000):\u001b[0m\n\u001b[1;37m    ^\u001b[0m\n\u001b[1;31mSyntaxError\u001b[0m\u001b[1;31m:\u001b[0m invalid syntax\n"
     ]
    }
   ],
   "source": [
    "def road_tax(price):\n",
    "    if price > 100000:\n",
    "        tax = 0.2 * price \n",
    "elif (price > 75000 and price <= 100000):\n",
    "   tax = 0.15 * price\n",
    "elif (price > 50000 and price <= 75000):\n",
    "tax = 0.1 * price\n",
    "else:\n",
    "tax = 0.05 * price\n",
    "return round(tax,1)"
   ]
  },
  {
   "cell_type": "code",
   "execution_count": null,
   "id": "98337cb7-d7d5-4b3c-a2c4-57b8675a79b4",
   "metadata": {},
   "outputs": [],
   "source": [
    "Question 4.\n",
    "You are given a positive integer A denoting the radius of a circle. You have\n",
    "to calculate the area of the circle. Note: The formula for the area of a circle\n",
    "is Area = πr2, where r is the circle's radius. You can use the value of PI as 3.1416. Round up the final answer up to 2 decimal places. You can\n",
    "use round(area, 2) for rounding area to 2 decimal places"
   ]
  },
  {
   "cell_type": "code",
   "execution_count": 42,
   "id": "e641c017-91c8-4d54-9c8a-fb879c6f152b",
   "metadata": {},
   "outputs": [],
   "source": [
    "class Solution:\n",
    "    # @param A : integer\n",
    "    # @return a float\n",
    "    def solve(self, A):\n",
    "        PI = 3.1416\n",
    "        area = PI * (A ** 2)\n",
    "        return round(area, 2)"
   ]
  },
  {
   "cell_type": "code",
   "execution_count": 43,
   "id": "eaa1a671-e1fd-4ead-b567-b2487278b686",
   "metadata": {},
   "outputs": [
    {
     "name": "stdout",
     "output_type": "stream",
     "text": [
      "28.27\n"
     ]
    }
   ],
   "source": [
    "sol = Solution()\n",
    "print(sol.solve(3))"
   ]
  },
  {
   "cell_type": "code",
   "execution_count": null,
   "id": "c3525d14-94c6-447e-bffe-5fcdba078218",
   "metadata": {},
   "outputs": [],
   "source": [
    "Question 5:\n",
    "Given an integer n, write a program to return the sum of squares of first n\n",
    "natural numbers in integer format.\n",
    "Note1:\n",
    "The formula for the sum of squares of first n natural numbers is: n(n+1)\n",
    "(2n+1)/6"
   ]
  },
  {
   "cell_type": "code",
   "execution_count": 45,
   "id": "b249c93c-f7d4-4a66-a4e0-5a6f0c6ed889",
   "metadata": {},
   "outputs": [],
   "source": [
    "def sum_of_squares(n):\n",
    "    return (n * (n + 1) * (2 * n + 1)) // 6"
   ]
  },
  {
   "cell_type": "code",
   "execution_count": 46,
   "id": "d7091bb7-2a03-45e4-96b9-679fdfc7bbe3",
   "metadata": {},
   "outputs": [
    {
     "name": "stdout",
     "output_type": "stream",
     "text": [
      "55\n"
     ]
    }
   ],
   "source": [
    "print(sum_of_squares(5))"
   ]
  },
  {
   "cell_type": "code",
   "execution_count": null,
   "id": "c1a993a5-5d59-4c1f-b6a1-c7ac6972e699",
   "metadata": {},
   "outputs": [],
   "source": [
    "Question 6.\n",
    "You are given a lowercase latin alphabetic character C. You have to tell\n",
    "whether it is a vowel or not.\n",
    "The characters 'a', 'e', 'i', 'o', and 'u' are called vowels.\n",
    "\n",
    "Note: You just have to write the code inside the function and return the result.\n",
    "The input and output is handled in the backend.\n",
    "\n",
    "Problem Constraints:\n",
    "C ∈ ['a' - 'z']\n",
    "problems on functions 4\n",
    "\n",
    "Input Format:\n",
    "The input consists of a single character C.\n",
    "\n",
    "Output Format:\n",
    "Return 1 if the given character is a vowel, else return 0 ."
   ]
  },
  {
   "cell_type": "code",
   "execution_count": 51,
   "id": "d5c18fcf-3176-47e7-b169-eb2170994bab",
   "metadata": {},
   "outputs": [],
   "source": [
    "def is_vowel(C):\n",
    "    if C in ['a', 'e', 'i', 'o', 'u']:\n",
    "        return 1\n",
    "    else:\n",
    "        return 0"
   ]
  },
  {
   "cell_type": "code",
   "execution_count": 52,
   "id": "dffe9ab9-a95d-4a9a-aecb-710aa6d54cb8",
   "metadata": {},
   "outputs": [
    {
     "name": "stdout",
     "output_type": "stream",
     "text": [
      "1\n",
      "0\n"
     ]
    }
   ],
   "source": [
    "print(is_vowel('a'))  \n",
    "print(is_vowel('z'))"
   ]
  },
  {
   "cell_type": "code",
   "execution_count": null,
   "id": "d09b06ed-2796-4fed-a63a-717981e14778",
   "metadata": {},
   "outputs": [],
   "source": [
    "Question 7.\n",
    "Given the height (A) and weight (B) of a person as input in centimetres and\n",
    "kilograms.\n",
    "Find the BMI of that person and the classification of the user based on their\n",
    "BMI.\n",
    "1. Print Underweight if BMI < 18.5\n",
    "2. Print Normal if BMI lies in the range [18.5, 24.9]\n",
    "3. Print Overweight if BMI lies in the range (24.9, 29.9]\n",
    "4. Print Obese if BMI is greater than 29.9\n",
    "If x is the weight in kilograms and y is the height in metres.\n",
    "Then, BMI is calculated as x/(y*y).\n",
    "\n",
    "    Note: Use round(BMI,1) to get only one digit after decimal\n",
    "\n",
    "    Input Format -\n",
    "The first line contains the height of the person in centimetres.\n",
    "The second line of the input contains the weight of the person in kilograms.\n",
    "\n",
    "problems on functions 5\n",
    "\n",
    "    Output Format -\n",
    "The first line of the output contains the classification of a person based on the\n",
    "BMI value.\n",
    "The second line of the output contains the BMI value of the person having only\n",
    "one digit after decimal."
   ]
  },
  {
   "cell_type": "code",
   "execution_count": 53,
   "id": "2acc7e73-4b25-42e1-a0d9-e9e2e5d31a81",
   "metadata": {},
   "outputs": [],
   "source": [
    "def classify_bmi(height_cm, weight_kg):\n",
    "    height_m = height_cm / 100  # Convert cm to meters\n",
    "    bmi = weight_kg / (height_m ** 2)\n",
    "    bmi = round(bmi, 1)\n",
    "\n",
    "    if bmi < 18.5:\n",
    "        classification = \"Underweight\"\n",
    "    elif 18.5 <= bmi <= 24.9:\n",
    "        classification = \"Normal\"\n",
    "    elif 24.9 < bmi <= 29.9:\n",
    "        classification = \"Overweight\"\n",
    "    else:\n",
    "        classification = \"Obese\"\n",
    "    \n",
    "    print(classification)\n",
    "    print(bmi)"
   ]
  },
  {
   "cell_type": "code",
   "execution_count": 55,
   "id": "78384b5e-10ee-489b-81be-bf0e2a552716",
   "metadata": {},
   "outputs": [
    {
     "name": "stdin",
     "output_type": "stream",
     "text": [
      " 150\n",
      " 20\n"
     ]
    },
    {
     "name": "stdout",
     "output_type": "stream",
     "text": [
      "Underweight\n",
      "8.9\n"
     ]
    }
   ],
   "source": [
    "height = float(input())  \n",
    "weight = float(input()) \n",
    "classify_bmi(height, weight)"
   ]
  },
  {
   "cell_type": "code",
   "execution_count": null,
   "id": "8aca636e-d874-4a1f-99bc-ef8240f6d8fc",
   "metadata": {},
   "outputs": [],
   "source": []
  },
  {
   "cell_type": "code",
   "execution_count": null,
   "id": "41b0baa3-5a61-478b-a52b-c692b8601a50",
   "metadata": {},
   "outputs": [],
   "source": []
  },
  {
   "cell_type": "code",
   "execution_count": null,
   "id": "9a668aee-2162-468b-889f-3ce5562766d0",
   "metadata": {},
   "outputs": [],
   "source": []
  },
  {
   "cell_type": "code",
   "execution_count": null,
   "id": "f13065df-5276-40e5-94fe-c13ac75b66d9",
   "metadata": {},
   "outputs": [],
   "source": []
  },
  {
   "cell_type": "code",
   "execution_count": null,
   "id": "c10ffcc1-238d-4620-93b7-3b6a84bc6e4d",
   "metadata": {},
   "outputs": [],
   "source": []
  },
  {
   "cell_type": "code",
   "execution_count": null,
   "id": "a54a9438-dd89-454f-b87a-3b83b7b5ebbd",
   "metadata": {},
   "outputs": [],
   "source": []
  },
  {
   "cell_type": "code",
   "execution_count": null,
   "id": "1421edd7-68a0-4e44-b209-ba1116efc9d0",
   "metadata": {},
   "outputs": [],
   "source": []
  },
  {
   "cell_type": "code",
   "execution_count": null,
   "id": "9e198ee9-6def-4098-9762-028faed0918d",
   "metadata": {},
   "outputs": [],
   "source": []
  },
  {
   "cell_type": "code",
   "execution_count": null,
   "id": "08c9c457-6908-414b-a1bf-39bb0c80d870",
   "metadata": {},
   "outputs": [],
   "source": []
  },
  {
   "cell_type": "code",
   "execution_count": null,
   "id": "736cb903-f071-4244-85ec-0ce9c1bb18b8",
   "metadata": {},
   "outputs": [],
   "source": []
  },
  {
   "cell_type": "code",
   "execution_count": null,
   "id": "a37611bf-6c44-4137-bf12-34bd88234c2b",
   "metadata": {},
   "outputs": [],
   "source": []
  },
  {
   "cell_type": "code",
   "execution_count": null,
   "id": "cfa328e1-4e9b-4d47-897e-743a5e7966df",
   "metadata": {},
   "outputs": [],
   "source": []
  }
 ],
 "metadata": {
  "kernelspec": {
   "display_name": "Python 3 (ipykernel)",
   "language": "python",
   "name": "python3"
  },
  "language_info": {
   "codemirror_mode": {
    "name": "ipython",
    "version": 3
   },
   "file_extension": ".py",
   "mimetype": "text/x-python",
   "name": "python",
   "nbconvert_exporter": "python",
   "pygments_lexer": "ipython3",
   "version": "3.12.7"
  }
 },
 "nbformat": 4,
 "nbformat_minor": 5
}
