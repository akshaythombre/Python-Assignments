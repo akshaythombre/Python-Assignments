{
 "cells": [
  {
   "cell_type": "code",
   "execution_count": null,
   "id": "bd7bcadf-1785-4bba-965e-d852c92e2f15",
   "metadata": {},
   "outputs": [],
   "source": [
    "Q 1:\n",
    "You are given 3 integer angles(in degrees) A, B and C of a triangle. You\n",
    "have to tell whether the triangle is valid or not.\n",
    "A triangle is valid if sum of its angles equals to 180.\n",
    "NOTE: You have to take the input of 3 sides of triangle from the user."
   ]
  },
  {
   "cell_type": "code",
   "execution_count": 2,
   "id": "e676684f-eadd-4262-90e6-946d2f8367e3",
   "metadata": {},
   "outputs": [
    {
     "name": "stdin",
     "output_type": "stream",
     "text": [
      " 180\n",
      " 90\n",
      " 60\n"
     ]
    },
    {
     "name": "stdout",
     "output_type": "stream",
     "text": [
      "0\n"
     ]
    }
   ],
   "source": [
    "A = int(input())\n",
    "B = int(input())\n",
    "C = int(input())\n",
    "if A+B+C == 180:\n",
    "    print (\"1\")\n",
    "else:\n",
    "    print (\"0\")"
   ]
  },
  {
   "cell_type": "code",
   "execution_count": null,
   "id": "45049a8e-c901-45fa-8b04-2c01634c3376",
   "metadata": {},
   "outputs": [],
   "source": [
    "Q 2:\n",
    "Write a program to input two numbers(A & B) from user and print the\n",
    "maximum element among A & B.\n",
    "Problem Constraints\n",
    "1 <= A <= 1000000\n",
    "1 <= B <= 1000000"
   ]
  },
  {
   "cell_type": "code",
   "execution_count": 3,
   "id": "b0631948-40c8-45a2-a847-d399f0ea734b",
   "metadata": {},
   "outputs": [
    {
     "name": "stdin",
     "output_type": "stream",
     "text": [
      " 100\n",
      " 200\n"
     ]
    },
    {
     "name": "stdout",
     "output_type": "stream",
     "text": [
      "200\n"
     ]
    }
   ],
   "source": [
    "A = int(input())\n",
    "B = int(input())\n",
    "if 1 <= A <= 1000000 and 1 <= B <= 1000000:\n",
    "    print(max(A,B))"
   ]
  },
  {
   "cell_type": "code",
   "execution_count": null,
   "id": "c43e30aa-f651-48a5-a2da-26554a3e5dd4",
   "metadata": {},
   "outputs": [],
   "source": [
    "Q 3:\n",
    "You are given the Cost Price C and Selling Price S of a Product. You have to\n",
    "tell whether there is a Profit or Loss. Also, calculate total profit or loss.\n",
    "NOTE: It is guaranteed that Cost Price and Selling Price are not equal.\n",
    "\n",
    "Problems in class 2\n",
    "NOTE: You have to take input of the Cost Price(C) and Selling Price(S) from\n",
    "the user.\n",
    "\n",
    "Problem Constraints\n",
    "C ≠ S\n",
    "1 <= C, S <= 109"
   ]
  },
  {
   "cell_type": "code",
   "execution_count": null,
   "id": "5d66a2cd-c529-4172-9564-a73b9d0958ed",
   "metadata": {},
   "outputs": [],
   "source": [
    "C = int(input())\n",
    "S = int(input())\n",
    "profit = C-S\n",
    "if 1<=C and S<= 10**9 and C != S and Profit > 1:\n",
    "    print(1)\n",
    "    print(S-C)\n",
    "else:\n",
    "    print(-1)\n",
    "    print(-(S-C))"
   ]
  },
  {
   "cell_type": "code",
   "execution_count": null,
   "id": "45288a25-66c6-4d96-aedf-daf276aa1a9b",
   "metadata": {},
   "outputs": [],
   "source": [
    "4. Given the number N, Categorise the number according to following\n",
    "\n",
    "condition :1. Odd-Positive2. Odd-Negative3. Even-Positive4. Even-\n",
    "NegativeNote : Intention of problem is to teach you Nested If-Else, so try to\n",
    "solve this problem using nested if-else\n",
    "\n",
    "# Problem Constraints -\n",
    "10000 <= N <= 10000 except 0"
   ]
  },
  {
   "cell_type": "code",
   "execution_count": 1,
   "id": "c602f1ce-b91c-4376-9e8d-253f2bfd2931",
   "metadata": {},
   "outputs": [
    {
     "name": "stdin",
     "output_type": "stream",
     "text": [
      "Enter a number (not 0):  150\n"
     ]
    },
    {
     "name": "stdout",
     "output_type": "stream",
     "text": [
      "Even-Positive\n"
     ]
    }
   ],
   "source": [
    "N = int(input(\"Enter a number (not 0): \"))\n",
    "if N % 2 == 0:\n",
    "    if N > 0:\n",
    "        print(\"Even-Positive\")\n",
    "    else:\n",
    "        print(\"Even-Negative\")\n",
    "else:\n",
    "    if N > 0:\n",
    "        print(\"Odd-Positive\")\n",
    "    else:\n",
    "        print(\"Odd-Negative\")\n"
   ]
  },
  {
   "cell_type": "code",
   "execution_count": null,
   "id": "9906355b-baee-45d3-b099-8246734db251",
   "metadata": {},
   "outputs": [],
   "source": []
  },
  {
   "cell_type": "code",
   "execution_count": null,
   "id": "c2d41c98-a19c-4379-a65d-d0aaa3e49e20",
   "metadata": {},
   "outputs": [],
   "source": []
  },
  {
   "cell_type": "code",
   "execution_count": null,
   "id": "9de532c0-89bb-4a65-b776-e96449b0dd7d",
   "metadata": {},
   "outputs": [],
   "source": []
  },
  {
   "cell_type": "code",
   "execution_count": null,
   "id": "debdffcd-dc74-460d-b75c-9aed876f1f3f",
   "metadata": {},
   "outputs": [],
   "source": []
  },
  {
   "cell_type": "code",
   "execution_count": null,
   "id": "79c79a4f-ff0a-4661-91d1-68b72cca2b64",
   "metadata": {},
   "outputs": [],
   "source": []
  },
  {
   "cell_type": "code",
   "execution_count": null,
   "id": "01cd0efb-19e4-40a9-a35a-4d1234954f3c",
   "metadata": {},
   "outputs": [],
   "source": []
  },
  {
   "cell_type": "code",
   "execution_count": null,
   "id": "3a60110f-3144-444f-9591-c03590b22bcc",
   "metadata": {},
   "outputs": [],
   "source": []
  },
  {
   "cell_type": "code",
   "execution_count": null,
   "id": "d765a872-4454-418a-8af2-a8998ae6457d",
   "metadata": {},
   "outputs": [],
   "source": []
  },
  {
   "cell_type": "code",
   "execution_count": null,
   "id": "a2b06d5d-95f8-402b-93b1-efe1607be5fb",
   "metadata": {},
   "outputs": [],
   "source": []
  },
  {
   "cell_type": "code",
   "execution_count": null,
   "id": "6569796f-5746-4bc6-9546-d3e009cfa275",
   "metadata": {},
   "outputs": [],
   "source": []
  },
  {
   "cell_type": "code",
   "execution_count": null,
   "id": "77b2993b-f0c0-4dff-b42f-520ddcdead46",
   "metadata": {},
   "outputs": [],
   "source": []
  },
  {
   "cell_type": "code",
   "execution_count": null,
   "id": "e4d93985-d0b7-4869-8a6c-bd255415780e",
   "metadata": {},
   "outputs": [],
   "source": []
  },
  {
   "cell_type": "code",
   "execution_count": null,
   "id": "104587ac-a174-487e-825e-c9094ef2f13e",
   "metadata": {},
   "outputs": [],
   "source": []
  },
  {
   "cell_type": "code",
   "execution_count": null,
   "id": "5892c36e-5dea-4979-bda5-eae52508f5cc",
   "metadata": {},
   "outputs": [],
   "source": []
  },
  {
   "cell_type": "code",
   "execution_count": null,
   "id": "4eaa24ed-ea7c-4f90-bd58-1c294a68414f",
   "metadata": {},
   "outputs": [],
   "source": []
  },
  {
   "cell_type": "code",
   "execution_count": null,
   "id": "0560e5d1-2ff7-4127-b658-70a067504b01",
   "metadata": {},
   "outputs": [],
   "source": []
  },
  {
   "cell_type": "code",
   "execution_count": null,
   "id": "cbbca9b1-7dd2-4b63-bbf1-4bcd5cd788b8",
   "metadata": {},
   "outputs": [],
   "source": []
  }
 ],
 "metadata": {
  "kernelspec": {
   "display_name": "Python 3 (ipykernel)",
   "language": "python",
   "name": "python3"
  },
  "language_info": {
   "codemirror_mode": {
    "name": "ipython",
    "version": 3
   },
   "file_extension": ".py",
   "mimetype": "text/x-python",
   "name": "python",
   "nbconvert_exporter": "python",
   "pygments_lexer": "ipython3",
   "version": "3.12.7"
  }
 },
 "nbformat": 4,
 "nbformat_minor": 5
}
