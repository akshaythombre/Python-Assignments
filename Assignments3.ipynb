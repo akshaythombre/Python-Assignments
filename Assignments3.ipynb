{
 "cells": [
  {
   "cell_type": "code",
   "execution_count": null,
   "id": "382852ea-3014-45cb-94f5-73042a649340",
   "metadata": {},
   "outputs": [],
   "source": [
    "Question 1:\n",
    "Create a variable x with the value 15 . Perform floored division by 4 and\n",
    "print the result. What is the difference between floored division and normal\n",
    "division?"
   ]
  },
  {
   "cell_type": "code",
   "execution_count": 3,
   "id": "00b94497-893d-4047-ab5f-bb574561f956",
   "metadata": {},
   "outputs": [
    {
     "name": "stdout",
     "output_type": "stream",
     "text": [
      "Floord division result: 3\n",
      "Normal division result: 3.75\n"
     ]
    }
   ],
   "source": [
    "x = 15\n",
    "result = x // 4\n",
    "print(\"Floord division result:\",result)\n",
    "\n",
    "normal_result = x / 4\n",
    "print(\"Normal division result:\", normal_result)"
   ]
  },
  {
   "cell_type": "code",
   "execution_count": null,
   "id": "81b1ee1a-a40a-4adf-a8e0-b116ef1047a5",
   "metadata": {},
   "outputs": [],
   "source": [
    "Question 2:\n",
    "Write a program to calculate 8 ** 2 and 16 ** 0.5 . Print both results and\n",
    "describe what each represents."
   ]
  },
  {
   "cell_type": "code",
   "execution_count": 6,
   "id": "f71081e4-bac6-48f9-9975-125374fce101",
   "metadata": {},
   "outputs": [
    {
     "name": "stdout",
     "output_type": "stream",
     "text": [
      " 8 ** 2 = 64\n",
      " 16 ** 0.5 = 4.0\n",
      "\n",
      "Description:\n",
      "8 ** 2 represents 8 raised to the power of 2, which equals 64.\n",
      "16 ** 0.5 represents the square root of 16, which equals 4.0.\n"
     ]
    }
   ],
   "source": [
    "list_1 = 8**2\n",
    "list_2 = 16**0.5\n",
    "print(\" 8 ** 2 =\",list_1)\n",
    "print(\" 16 ** 0.5 =\",list_2)\n",
    "\n",
    "print(\"\\nDescription:\")\n",
    "print(\"8 ** 2 represents 8 raised to the power of 2, which equals 64.\")\n",
    "print(\"16 ** 0.5 represents the square root of 16, which equals 4.0.\")"
   ]
  },
  {
   "cell_type": "code",
   "execution_count": null,
   "id": "8cae547b-0250-4b99-a671-bafc73fc19ec",
   "metadata": {},
   "outputs": [],
   "source": [
    "Question 3:\n",
    "Use arithmetic operators to solve the following expression: 20 - 5 * 3 + 8 /\n",
    "4 . Use parentheses to make sure the addition happens before\n",
    "multiplication. Print the output."
   ]
  },
  {
   "cell_type": "code",
   "execution_count": 7,
   "id": "464ad656-8b44-4247-8868-14b04b97c516",
   "metadata": {},
   "outputs": [
    {
     "name": "stdout",
     "output_type": "stream",
     "text": [
      "Result of the expression: 7.0\n"
     ]
    }
   ],
   "source": [
    "result = (20 - (5 * 3)) + (8 / 4)\n",
    "print(\"Result of the expression:\", result)"
   ]
  },
  {
   "cell_type": "code",
   "execution_count": null,
   "id": "d817fbdb-6e39-465c-a65b-79b5c53318bf",
   "metadata": {},
   "outputs": [],
   "source": [
    "Question 4:\n",
    "Assign the value 7 to a variable num . Convert it to a float and print the\n",
    "result. What is the difference between 7 and 7.0 ?"
   ]
  },
  {
   "cell_type": "code",
   "execution_count": 8,
   "id": "1a164cb9-41c4-4d22-8175-a7003e1956b0",
   "metadata": {},
   "outputs": [
    {
     "name": "stdout",
     "output_type": "stream",
     "text": [
      "Converted to float: 7.0\n"
     ]
    }
   ],
   "source": [
    "num = 7\n",
    "float_num = float(num)  \n",
    "print(\"Converted to float:\", float_num)"
   ]
  },
  {
   "cell_type": "code",
   "execution_count": null,
   "id": "441e2e83-d266-4827-8689-663d85057056",
   "metadata": {},
   "outputs": [],
   "source": [
    "Question 5:\n",
    "Use a comparison operator to check if 100 is greater than 50 . Print the\n",
    "result and indicate what type of value this is."
   ]
  },
  {
   "cell_type": "code",
   "execution_count": 9,
   "id": "392df305-005b-4651-8b74-ef494200cb05",
   "metadata": {},
   "outputs": [
    {
     "name": "stdout",
     "output_type": "stream",
     "text": [
      "Is 100 greater than 50? True\n",
      "Type of result: <class 'bool'>\n"
     ]
    }
   ],
   "source": [
    "result = 100 > 50  \n",
    "print(\"Is 100 greater than 50?\", result)\n",
    "print(\"Type of result:\", type(result))"
   ]
  },
  {
   "cell_type": "code",
   "execution_count": null,
   "id": "31da42be-cde1-434c-afed-d754dc7b6d4a",
   "metadata": {},
   "outputs": [],
   "source": [
    "Question 6:\n",
    "Assign True to a variable is_sunny and False to is_weekend . Use logical\n",
    "operators to check if it is sunny and the weekend ( is_sunny and is_weekend ).\n",
    "Print the result."
   ]
  },
  {
   "cell_type": "code",
   "execution_count": 1,
   "id": "ebb83c6b-2e2d-445a-b1a8-3786840ee9d5",
   "metadata": {},
   "outputs": [
    {
     "name": "stdout",
     "output_type": "stream",
     "text": [
      "False\n"
     ]
    }
   ],
   "source": [
    "is_sunny = True\n",
    "is_weekend = False\n",
    "result = is_sunny and is_weekend\n",
    "print(result)"
   ]
  },
  {
   "cell_type": "code",
   "execution_count": null,
   "id": "b4c66c3c-6d6b-4458-ac66-0e7b64f10851",
   "metadata": {},
   "outputs": [],
   "source": [
    "Question 7:\n",
    "Create a variable password and set it to \"my_password123\" . Ask the user to input\n",
    "a password and print True if the input matches the value of password ,\n",
    "otherwise print False ."
   ]
  },
  {
   "cell_type": "code",
   "execution_count": 2,
   "id": "583e42e2-328c-4c4d-b252-7ebc6bd8457d",
   "metadata": {},
   "outputs": [
    {
     "name": "stdin",
     "output_type": "stream",
     "text": [
      "Enter the password:  1234\n"
     ]
    },
    {
     "name": "stdout",
     "output_type": "stream",
     "text": [
      "False\n"
     ]
    }
   ],
   "source": [
    "password = \"my_password123\"\n",
    "user_input = input(\"Enter the password: \")\n",
    "\n",
    "if user_input == password:\n",
    "    print(True)\n",
    "else:\n",
    "    print(False)"
   ]
  },
  {
   "cell_type": "code",
   "execution_count": null,
   "id": "2cf10f38-d943-47d0-9a72-5c7404ecd596",
   "metadata": {},
   "outputs": [],
   "source": [
    "Question 8:\n",
    "Assign the value 50 to a variable marks . Increment the value of marks by 5\n",
    "using the += operator, then print the new value."
   ]
  },
  {
   "cell_type": "code",
   "execution_count": 3,
   "id": "60467e92-7066-4f73-a59a-9404f69a6edc",
   "metadata": {},
   "outputs": [
    {
     "name": "stdout",
     "output_type": "stream",
     "text": [
      "100\n"
     ]
    }
   ],
   "source": [
    "marks = 50\n",
    "marks += 50\n",
    "print(marks)"
   ]
  },
  {
   "cell_type": "code",
   "execution_count": null,
   "id": "0a32561c-7c52-4fb2-9855-335a635825fc",
   "metadata": {},
   "outputs": [],
   "source": [
    "Question 9:\n",
    "Write a program to check if the value of a = 0 and b = 10 satisfies a or b .\n",
    "Print the output and explain why it gives that result."
   ]
  },
  {
   "cell_type": "code",
   "execution_count": 4,
   "id": "8ae64063-9412-418f-bfa9-b0099091f298",
   "metadata": {},
   "outputs": [
    {
     "name": "stdout",
     "output_type": "stream",
     "text": [
      "10\n"
     ]
    }
   ],
   "source": [
    "a = 0\n",
    "b = 10\n",
    "result = a or b\n",
    "print(result)"
   ]
  },
  {
   "cell_type": "code",
   "execution_count": null,
   "id": "bbc946dc-cc79-49b7-a09a-afb0c1192d85",
   "metadata": {},
   "outputs": [],
   "source": [
    "Question 10:\n",
    "Use not to negate the value of False and print the result. Explain what the\n",
    "not operator does in Python."
   ]
  },
  {
   "cell_type": "code",
   "execution_count": 7,
   "id": "3ee7b977-314e-4a90-967c-855b8bd1e21e",
   "metadata": {},
   "outputs": [
    {
     "name": "stdout",
     "output_type": "stream",
     "text": [
      "True\n"
     ]
    }
   ],
   "source": [
    "result = not False\n",
    "print(result)"
   ]
  },
  {
   "cell_type": "code",
   "execution_count": null,
   "id": "e8168b0f-142f-420d-b0f4-7b63e5907b2b",
   "metadata": {},
   "outputs": [],
   "source": []
  },
  {
   "cell_type": "code",
   "execution_count": null,
   "id": "8ae33d32-3f7a-4bc9-8e83-a9754a64f9e5",
   "metadata": {},
   "outputs": [],
   "source": []
  },
  {
   "cell_type": "code",
   "execution_count": null,
   "id": "afb72cc2-c605-4455-9a9c-e076316bbb46",
   "metadata": {},
   "outputs": [],
   "source": []
  },
  {
   "cell_type": "code",
   "execution_count": null,
   "id": "b0223f2f-6df2-4c09-9940-798819fbf3e4",
   "metadata": {},
   "outputs": [],
   "source": []
  },
  {
   "cell_type": "code",
   "execution_count": null,
   "id": "eda0c608-be5b-4f75-8278-2addcdeb7ab3",
   "metadata": {},
   "outputs": [],
   "source": []
  },
  {
   "cell_type": "code",
   "execution_count": null,
   "id": "c4d50bbe-4fc6-4f6a-8529-96fe5909012e",
   "metadata": {},
   "outputs": [],
   "source": []
  },
  {
   "cell_type": "code",
   "execution_count": null,
   "id": "13959e0c-0156-4849-a944-b0e97a4f05af",
   "metadata": {},
   "outputs": [],
   "source": []
  },
  {
   "cell_type": "code",
   "execution_count": null,
   "id": "87e845e0-7b0a-4ca7-8473-724a8638a769",
   "metadata": {},
   "outputs": [],
   "source": []
  },
  {
   "cell_type": "code",
   "execution_count": null,
   "id": "c3b89480-30b9-49da-8e95-877849e5efd8",
   "metadata": {},
   "outputs": [],
   "source": []
  }
 ],
 "metadata": {
  "kernelspec": {
   "display_name": "Python 3 (ipykernel)",
   "language": "python",
   "name": "python3"
  },
  "language_info": {
   "codemirror_mode": {
    "name": "ipython",
    "version": 3
   },
   "file_extension": ".py",
   "mimetype": "text/x-python",
   "name": "python",
   "nbconvert_exporter": "python",
   "pygments_lexer": "ipython3",
   "version": "3.12.7"
  }
 },
 "nbformat": 4,
 "nbformat_minor": 5
}
