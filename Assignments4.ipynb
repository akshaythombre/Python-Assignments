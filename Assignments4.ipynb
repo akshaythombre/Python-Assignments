{
 "cells": [
  {
   "cell_type": "code",
   "execution_count": null,
   "id": "9ec972e7-81a7-4b3f-aa61-d10524ad7265",
   "metadata": {},
   "outputs": [],
   "source": [
    "Question 1:\n",
    "Write a Python program that checks if a number entered by the user is even\n",
    "or odd. Print \"Even\" if the number is even and \"Odd\" if it is odd."
   ]
  },
  {
   "cell_type": "code",
   "execution_count": 1,
   "id": "5e7ed77b-eb0b-4a70-982f-7ca17f3176be",
   "metadata": {},
   "outputs": [
    {
     "name": "stdin",
     "output_type": "stream",
     "text": [
      "Enter a number:  2\n"
     ]
    },
    {
     "name": "stdout",
     "output_type": "stream",
     "text": [
      "Even\n"
     ]
    }
   ],
   "source": [
    "number = int(input(\"Enter a number: \"))\n",
    "if number % 2 == 0:\n",
    "    print(\"Even\")\n",
    "else:\n",
    "    print(\"Odd\")"
   ]
  },
  {
   "cell_type": "code",
   "execution_count": null,
   "id": "761aa509-ccbc-4d77-987c-a3802407be2f",
   "metadata": {},
   "outputs": [],
   "source": [
    "Question 2:\n",
    "Create a program that prompts the user for their age and prints whether\n",
    "they are a child (0-12), teenager (13-19), or adult (20 and above)."
   ]
  },
  {
   "cell_type": "code",
   "execution_count": 2,
   "id": "90467051-4ee8-4d3c-a8f1-c0b7c55ae9e5",
   "metadata": {},
   "outputs": [
    {
     "name": "stdin",
     "output_type": "stream",
     "text": [
      "Enter your age:  23\n"
     ]
    },
    {
     "name": "stdout",
     "output_type": "stream",
     "text": [
      "Adult\n"
     ]
    }
   ],
   "source": [
    "age = int(input(\"Enter your age: \"))\n",
    "\n",
    "if age <= 12:\n",
    "    print(\"Child\")\n",
    "elif 13 <= age <= 19:\n",
    "    print(\"Teenager\")\n",
    "else:\n",
    "    print(\"Adult\")"
   ]
  },
  {
   "cell_type": "code",
   "execution_count": null,
   "id": "9bf66cf4-a18f-4a83-9b5b-df17aafa3042",
   "metadata": {},
   "outputs": [],
   "source": [
    "Question 3:\n",
    "Write a program that takes two numbers as input from the user and prints\n",
    "which number is larger. If both numbers are equal, print \"Both numbers are\n",
    "equal.\""
   ]
  },
  {
   "cell_type": "code",
   "execution_count": 7,
   "id": "4ccd9f30-e040-4745-b24e-ee2d16a39f7e",
   "metadata": {},
   "outputs": [
    {
     "name": "stdin",
     "output_type": "stream",
     "text": [
      "Enter the first number:  12\n",
      "Enter the second number:  6\n"
     ]
    },
    {
     "name": "stdout",
     "output_type": "stream",
     "text": [
      "The larger number is 12.0.\n"
     ]
    }
   ],
   "source": [
    "\n",
    "num1 = float(input(\"Enter the first number: \"))\n",
    "num2 = float(input(\"Enter the second number: \"))\n",
    "\n",
    "if num1 > num2:\n",
    "    print(f\"The larger number is {num1}.\")\n",
    "elif num1 < num2:\n",
    "    print(f\"The larger number is {num2}.\")\n",
    "else:\n",
    "    print(\"Both numbers are equal.\")"
   ]
  },
  {
   "cell_type": "code",
   "execution_count": null,
   "id": "f54b6082-43fa-4ac2-875a-e3c6ed508ca7",
   "metadata": {},
   "outputs": [],
   "source": [
    "Question 4:\n",
    "Create a program that checks if a user-entered password matches the\n",
    "string \"securePassword\". Print \"Access Granted\" if it matches, otherwise\n",
    "print \"Access Denied.\""
   ]
  },
  {
   "cell_type": "code",
   "execution_count": 9,
   "id": "ea0ae952-9331-473e-9fe3-80bd03940336",
   "metadata": {},
   "outputs": [
    {
     "name": "stdin",
     "output_type": "stream",
     "text": [
      "Enter your password:  Pass@123\n"
     ]
    },
    {
     "name": "stdout",
     "output_type": "stream",
     "text": [
      "Access Denied\n"
     ]
    }
   ],
   "source": [
    "correct_password = \"securePassword\"\n",
    "user_password = input(\"Enter your password: \")\n",
    "if user_password == correct_password:\n",
    "    print(\"Access Granted\")\n",
    "else:\n",
    "    print(\"Access Denied\")"
   ]
  },
  {
   "cell_type": "code",
   "execution_count": null,
   "id": "f64b3a2c-b125-4830-988b-77fd51ea70d0",
   "metadata": {},
   "outputs": [],
   "source": [
    "Question 5:\n",
    "Write a program that takes a score from the user (0-100) and prints the\n",
    "corresponding grade:\n",
    "A for 90-100\n",
    "B for 80-89\n",
    "C for 70-79\n",
    "D for 60-69\n",
    "F for below 60"
   ]
  },
  {
   "cell_type": "code",
   "execution_count": 10,
   "id": "2154ed4d-23fc-4919-b3a5-05a018803f00",
   "metadata": {},
   "outputs": [
    {
     "name": "stdin",
     "output_type": "stream",
     "text": [
      "Enter your score (0-100):  70\n"
     ]
    },
    {
     "name": "stdout",
     "output_type": "stream",
     "text": [
      "Grade: C\n"
     ]
    }
   ],
   "source": [
    "score = int(input(\"Enter your score (0-100): \"))\n",
    "if 90 <= score <= 100:\n",
    "    print(\"Grade: A\")\n",
    "elif 80 <= score <= 89:\n",
    "    print(\"Grade: B\")\n",
    "elif 70 <= score <= 79:\n",
    "    print(\"Grade: C\")\n",
    "elif 60 <= score <= 69:\n",
    "    print(\"Grade: D\")\n",
    "else:\n",
    "    print(\"Grade: F\")"
   ]
  },
  {
   "cell_type": "code",
   "execution_count": null,
   "id": "5131675a-0a70-462b-a6e7-1ce2822bef1d",
   "metadata": {},
   "outputs": [],
   "source": [
    "Question 6:\n",
    "Create a program that asks the user for a number and checks if it is\n",
    "positive, negative, or zero. Print the corresponding message."
   ]
  },
  {
   "cell_type": "code",
   "execution_count": 11,
   "id": "d8a20f6c-6435-4e2c-9fc8-6ddec6507f44",
   "metadata": {},
   "outputs": [
    {
     "name": "stdin",
     "output_type": "stream",
     "text": [
      "Enter a number:  30\n"
     ]
    },
    {
     "name": "stdout",
     "output_type": "stream",
     "text": [
      "The number is positive.\n"
     ]
    }
   ],
   "source": [
    "number = float(input(\"Enter a number: \"))\n",
    "if number > 0:\n",
    "    print(\"The number is positive.\")\n",
    "elif number < 0:\n",
    "    print(\"The number is negative.\")\n",
    "else:\n",
    "    print(\"The number is zero.\")"
   ]
  },
  {
   "cell_type": "code",
   "execution_count": null,
   "id": "18a201a5-ea2c-40e7-bb36-cc6f23b248bb",
   "metadata": {},
   "outputs": [],
   "source": [
    "Question 7:\n",
    "Write a program that takes three numbers from the user and determines the\n",
    "largest of the three. Print the largest number."
   ]
  },
  {
   "cell_type": "code",
   "execution_count": 13,
   "id": "c0072140-b98d-4d27-bcb3-226c458d47f8",
   "metadata": {},
   "outputs": [
    {
     "name": "stdin",
     "output_type": "stream",
     "text": [
      "Enter the first number:  12\n",
      "Enter the second number:  66\n",
      "Enter the third number:  99\n"
     ]
    },
    {
     "name": "stdout",
     "output_type": "stream",
     "text": [
      "The largest number is: 99.0\n"
     ]
    }
   ],
   "source": [
    "num1 = float(input(\"Enter the first number: \"))\n",
    "num2 = float(input(\"Enter the second number: \"))\n",
    "num3 = float(input(\"Enter the third number: \"))\n",
    "\n",
    "largest = max(num1, num2, num3)\n",
    "print(f\"The largest number is: {largest}\")"
   ]
  },
  {
   "cell_type": "code",
   "execution_count": null,
   "id": "619d59a6-c2e8-47f8-9570-c05750747466",
   "metadata": {},
   "outputs": [],
   "source": [
    "Question 8:\n",
    "Create a program that checks if a user-entered character is a vowel (a, e, i,\n",
    "o, u) or a consonant. Print the corresponding message."
   ]
  },
  {
   "cell_type": "code",
   "execution_count": 15,
   "id": "caab02b1-c1d7-4612-bb8a-4c07aee17be1",
   "metadata": {},
   "outputs": [
    {
     "name": "stdin",
     "output_type": "stream",
     "text": [
      "Enter a character:  Akshay\n"
     ]
    },
    {
     "name": "stdout",
     "output_type": "stream",
     "text": [
      "The character is a consonant.\n"
     ]
    }
   ],
   "source": [
    "char = input(\"Enter a character: \").lower()  \n",
    "if char in 'aeiou':\n",
    "    print(\"The character is a vowel.\")\n",
    "elif char.isalpha():  \n",
    "    print(\"The character is a consonant.\")\n",
    "else:\n",
    "    print(\"The input is not a valid letter.\")"
   ]
  },
  {
   "cell_type": "code",
   "execution_count": null,
   "id": "783de1c8-1e1f-4f44-9364-8a14937d7bf4",
   "metadata": {},
   "outputs": [],
   "source": [
    "Question 9:\n",
    "Write a program that checks if a given year is a leap year. A year is a leap\n",
    "year if it is divisible by 4, except for years that are divisible by 100 but not\n",
    "divisible by 400."
   ]
  },
  {
   "cell_type": "code",
   "execution_count": 17,
   "id": "681ef90c-3886-4f71-84c4-d0e80617802b",
   "metadata": {},
   "outputs": [
    {
     "name": "stdin",
     "output_type": "stream",
     "text": [
      "Enter a year:  2024\n"
     ]
    },
    {
     "name": "stdout",
     "output_type": "stream",
     "text": [
      "2024 is a leap year.\n"
     ]
    }
   ],
   "source": [
    "year = int(input(\"Enter a year: \"))\n",
    "if (year % 4 == 0 and year % 100 != 0) or (year % 400 == 0):\n",
    "    print(f\"{year} is a leap year.\")\n",
    "else:\n",
    "    print(f\"{year} is not a leap year.\")"
   ]
  },
  {
   "cell_type": "code",
   "execution_count": null,
   "id": "51510adc-f718-4e38-ae10-58a4295e0611",
   "metadata": {},
   "outputs": [],
   "source": [
    "Question 10:\n",
    "Create a program that prompts the user for a temperature in Celsius and\n",
    "converts it to Fahrenheit. If the converted temperature is greater than 100°F,\n",
    "print \"It's boiling!\" Otherwise, print \"It's not boiling yet.\""
   ]
  },
  {
   "cell_type": "code",
   "execution_count": 18,
   "id": "716db8c7-b613-4900-bd14-a9c7b13e6737",
   "metadata": {},
   "outputs": [
    {
     "name": "stdin",
     "output_type": "stream",
     "text": [
      "Enter the temperature in Celsius:  30\n"
     ]
    },
    {
     "name": "stdout",
     "output_type": "stream",
     "text": [
      "It's not boiling yet.\n"
     ]
    }
   ],
   "source": [
    "celsius = float(input(\"Enter the temperature in Celsius: \"))\n",
    "fahrenheit = (celsius * 9/5) + 32\n",
    "\n",
    "if fahrenheit > 100:\n",
    "    print(\"It's boiling!\")\n",
    "else:\n",
    "    print(\"It's not boiling yet.\")"
   ]
  },
  {
   "cell_type": "code",
   "execution_count": null,
   "id": "d6a89fdf-a2e0-454c-ab63-d0b356185a7e",
   "metadata": {},
   "outputs": [],
   "source": []
  },
  {
   "cell_type": "code",
   "execution_count": null,
   "id": "60894dc7-5cc4-41df-ad74-5f05e92bc1d9",
   "metadata": {},
   "outputs": [],
   "source": []
  },
  {
   "cell_type": "code",
   "execution_count": null,
   "id": "e10ece36-1e6d-42b2-b376-ded17f7ebae4",
   "metadata": {},
   "outputs": [],
   "source": []
  },
  {
   "cell_type": "code",
   "execution_count": null,
   "id": "813e7cb6-f80f-412c-a7b2-48c815f1c86b",
   "metadata": {},
   "outputs": [],
   "source": []
  },
  {
   "cell_type": "code",
   "execution_count": null,
   "id": "7a387943-2c0c-4a81-bc97-fa2a0d16283a",
   "metadata": {},
   "outputs": [],
   "source": []
  }
 ],
 "metadata": {
  "kernelspec": {
   "display_name": "Python 3 (ipykernel)",
   "language": "python",
   "name": "python3"
  },
  "language_info": {
   "codemirror_mode": {
    "name": "ipython",
    "version": 3
   },
   "file_extension": ".py",
   "mimetype": "text/x-python",
   "name": "python",
   "nbconvert_exporter": "python",
   "pygments_lexer": "ipython3",
   "version": "3.12.7"
  }
 },
 "nbformat": 4,
 "nbformat_minor": 5
}
